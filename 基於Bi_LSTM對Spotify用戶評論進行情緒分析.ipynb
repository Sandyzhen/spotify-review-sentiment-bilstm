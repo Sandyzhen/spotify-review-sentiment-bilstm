{
  "nbformat": 4,
  "nbformat_minor": 0,
  "metadata": {
    "colab": {
      "provenance": [],
      "authorship_tag": "ABX9TyPZgJBeeW2yZguxOrlzdGx0",
      "include_colab_link": true
    },
    "kernelspec": {
      "name": "python3",
      "display_name": "Python 3"
    },
    "language_info": {
      "name": "python"
    }
  },
  "cells": [
    {
      "cell_type": "markdown",
      "metadata": {
        "id": "view-in-github",
        "colab_type": "text"
      },
      "source": [
        "<a href=\"https://colab.research.google.com/github/Sandyzhen/spotify-review-sentiment-bilstm/blob/main/%E5%9F%BA%E6%96%BCBi_LSTM%E5%B0%8DSpotify%E7%94%A8%E6%88%B6%E8%A9%95%E8%AB%96%E9%80%B2%E8%A1%8C%E6%83%85%E7%B7%92%E5%88%86%E6%9E%90.ipynb\" target=\"_parent\"><img src=\"https://colab.research.google.com/assets/colab-badge.svg\" alt=\"Open In Colab\"/></a>"
      ]
    },
    {
      "cell_type": "markdown",
      "source": [
        "**深度學習報告**"
      ],
      "metadata": {
        "id": "wJUZVAOcNLA5"
      }
    },
    {
      "cell_type": "code",
      "execution_count": 2,
      "metadata": {
        "id": "nG0811izK1gB"
      },
      "outputs": [],
      "source": [
        "import pandas as pd\n",
        "from sklearn.ensemble import RandomForestClassifier\n",
        "from sklearn.metrics import accuracy_score\n",
        "from sklearn.model_selection import train_test_split\n",
        "import numpy as np\n",
        "\n",
        "import os\n",
        "import pandas as pd\n",
        "from sklearn.metrics import classification_report, confusion_matrix\n",
        "data=pd.read_csv(\"/content/spotify評論3.csv\")\n",
        "\n"
      ]
    },
    {
      "cell_type": "code",
      "source": [
        "# 將 data中content欄位的所有文字轉換為小寫\n",
        "data['content'] = data['content'].str.lower()"
      ],
      "metadata": {
        "id": "HAJarTIjLFWA"
      },
      "execution_count": null,
      "outputs": []
    },
    {
      "cell_type": "code",
      "source": [
        "!pip install contractions"
      ],
      "metadata": {
        "colab": {
          "base_uri": "https://localhost:8080/"
        },
        "id": "0EnILrI8LIvI",
        "outputId": "1e449638-51a5-4f87-e407-e667b31a02f5"
      },
      "execution_count": null,
      "outputs": [
        {
          "output_type": "stream",
          "name": "stdout",
          "text": [
            "Collecting contractions\n",
            "  Downloading contractions-0.1.73-py2.py3-none-any.whl (8.7 kB)\n",
            "Collecting textsearch>=0.0.21 (from contractions)\n",
            "  Downloading textsearch-0.0.24-py2.py3-none-any.whl (7.6 kB)\n",
            "Collecting anyascii (from textsearch>=0.0.21->contractions)\n",
            "  Downloading anyascii-0.3.2-py3-none-any.whl (289 kB)\n",
            "\u001b[2K     \u001b[90m━━━━━━━━━━━━━━━━━━━━━━━━━━━━━━━━━━━━━━━━\u001b[0m \u001b[32m289.9/289.9 kB\u001b[0m \u001b[31m4.5 MB/s\u001b[0m eta \u001b[36m0:00:00\u001b[0m\n",
            "\u001b[?25hCollecting pyahocorasick (from textsearch>=0.0.21->contractions)\n",
            "  Downloading pyahocorasick-2.0.0-cp310-cp310-manylinux_2_5_x86_64.manylinux1_x86_64.manylinux_2_12_x86_64.manylinux2010_x86_64.whl (110 kB)\n",
            "\u001b[2K     \u001b[90m━━━━━━━━━━━━━━━━━━━━━━━━━━━━━━━━━━━━━━━━\u001b[0m \u001b[32m110.8/110.8 kB\u001b[0m \u001b[31m10.0 MB/s\u001b[0m eta \u001b[36m0:00:00\u001b[0m\n",
            "\u001b[?25hInstalling collected packages: pyahocorasick, anyascii, textsearch, contractions\n",
            "Successfully installed anyascii-0.3.2 contractions-0.1.73 pyahocorasick-2.0.0 textsearch-0.0.24\n"
          ]
        }
      ]
    },
    {
      "cell_type": "code",
      "source": [
        "import contractions\n",
        "\n",
        "data['ReviewContractions'] = data['content'].apply(lambda x: contractions.fix(x))\n",
        "\n",
        "# Some examples\n",
        "print(data['content'][4])\n",
        "print(data['ReviewContractions'][4])"
      ],
      "metadata": {
        "colab": {
          "base_uri": "https://localhost:8080/"
        },
        "id": "gW10GbgZLGlc",
        "outputId": "06bc71d6-9271-41d5-fedd-a58986b2ad45"
      },
      "execution_count": null,
      "outputs": [
        {
          "output_type": "stream",
          "name": "stdout",
          "text": [
            "recently i've noticed the shuffle feature is limited to maybe 10-20 songs in a loop out of 2000 songs. i have to manually go into my playlist and select a random song to make the shuffle feature play different songs. itll play the same song 10 times over again while other songs i haven't heard in months. why!?!\n",
            "recently i have noticed the shuffle feature is limited to maybe 10-20 songs in a loop out of 2000 songs. i have to manually go into my playlist and select a random song to make the shuffle feature play different songs. it will play the same song 10 times over again while other songs i have not heard in months. why!?!\n"
          ]
        }
      ]
    },
    {
      "cell_type": "code",
      "source": [
        "data.ReviewContractions = data.ReviewContractions.replace(r'\\d+', '', regex=True)"
      ],
      "metadata": {
        "id": "JhSx392eLJNR"
      },
      "execution_count": null,
      "outputs": []
    },
    {
      "cell_type": "code",
      "source": [
        "from nltk.tokenize import word_tokenize\n",
        "import nltk\n",
        "nltk.download('punkt')"
      ],
      "metadata": {
        "colab": {
          "base_uri": "https://localhost:8080/"
        },
        "id": "9evOHdffLKtX",
        "outputId": "a0eb7885-2753-4549-d9f6-4767854d2701"
      },
      "execution_count": null,
      "outputs": [
        {
          "output_type": "stream",
          "name": "stderr",
          "text": [
            "[nltk_data] Downloading package punkt to /root/nltk_data...\n",
            "[nltk_data]   Package punkt is already up-to-date!\n"
          ]
        },
        {
          "output_type": "execute_result",
          "data": {
            "text/plain": [
              "True"
            ]
          },
          "metadata": {},
          "execution_count": 277
        }
      ]
    },
    {
      "cell_type": "code",
      "source": [
        "# Tokenization\n",
        "def tokenization(inputs):\n",
        "    return word_tokenize(inputs)\n",
        "\n",
        "\n",
        "data['ReviewTokenized'] = data['ReviewContractions'].apply(tokenization)\n",
        "print(data.ReviewContractions[600])\n",
        "print(data.ReviewTokenized[600])"
      ],
      "metadata": {
        "colab": {
          "base_uri": "https://localhost:8080/"
        },
        "id": "s6W0So-VLLl3",
        "outputId": "7c5142d7-f71d-4c27-d6b2-1885df3f26b1"
      },
      "execution_count": null,
      "outputs": [
        {
          "output_type": "stream",
          "name": "stdout",
          "text": [
            "not sure what happened in this last update but the app keeps freezing and closing when i listen for more than 10 minutes. please fix this.\n",
            "['not', 'sure', 'what', 'happened', 'in', 'this', 'last', 'update', 'but', 'the', 'app', 'keeps', 'freezing', 'and', 'closing', 'when', 'i', 'listen', 'for', 'more', 'than', '10', 'minutes', '.', 'please', 'fix', 'this', '.']\n"
          ]
        }
      ]
    },
    {
      "cell_type": "code",
      "source": [
        "from nltk.corpus import stopwords\n",
        "nltk.download('stopwords')"
      ],
      "metadata": {
        "colab": {
          "base_uri": "https://localhost:8080/"
        },
        "id": "xtLLdKu_LN3h",
        "outputId": "c8132bcb-7f07-4132-bd52-650957c63ba7"
      },
      "execution_count": null,
      "outputs": [
        {
          "output_type": "stream",
          "name": "stderr",
          "text": [
            "[nltk_data] Downloading package stopwords to /root/nltk_data...\n",
            "[nltk_data]   Package stopwords is already up-to-date!\n"
          ]
        },
        {
          "output_type": "execute_result",
          "data": {
            "text/plain": [
              "True"
            ]
          },
          "metadata": {},
          "execution_count": 279
        }
      ]
    },
    {
      "cell_type": "code",
      "source": [
        "# Stopwords Removal\n",
        "stop_words = set(stopwords.words('english'))\n",
        "stop_words.remove('not')\n",
        "\n",
        "\n",
        "def stopwordsRemove(inputs):\n",
        "    return [item for item in inputs if item not in stop_words]\n",
        "\n",
        "\n",
        "data['ReviewStop'] = data['ReviewTokenized'].apply(stopwordsRemove)\n",
        "print(data.ReviewTokenized[5])\n",
        "print(data.ReviewStop[5])"
      ],
      "metadata": {
        "colab": {
          "base_uri": "https://localhost:8080/"
        },
        "id": "hs8EwlDpLPKe",
        "outputId": "24ba212c-7bdf-4c5d-856a-1daf55e87528"
      },
      "execution_count": null,
      "outputs": [
        {
          "output_type": "stream",
          "name": "stdout",
          "text": [
            "['the', 'smart', 'shuffle', 'and', 'recommendations', 'keep', 'turning', 'on', 'even', 'after', 'you', 'toggle', 'it', 'off', '.', 'please', 'do', 'something', 'about', 'it', '.', 'i', 'would', 'like', 'to', 'listen', 'to', 'only', 'the', 'songs', 'that', 'are', 'in', 'my', 'playlist', '.', 'also', 'the', 'sorted', 'order', 'does', 'not', 'play', 'in', 'the', 'queue', '.', 'it', 'automatically', 'goes', 'into', 'a', 'shuffle', 'mode', '.']\n",
            "['smart', 'shuffle', 'recommendations', 'keep', 'turning', 'even', 'toggle', '.', 'please', 'something', '.', 'would', 'like', 'listen', 'songs', 'playlist', '.', 'also', 'sorted', 'order', 'not', 'play', 'queue', '.', 'automatically', 'goes', 'shuffle', 'mode', '.']\n"
          ]
        }
      ]
    },
    {
      "cell_type": "code",
      "source": [
        "import re\n",
        "# Remove punctuations from tokenized text rows\n",
        "def removePunctuation(inputs):\n",
        "    p = re.compile(r'[^\\w\\s]+')\n",
        "    return p.sub('', inputs)\n",
        "\n",
        "\n",
        "data.ReviewStop = data.ReviewStop.apply(lambda x: list(map(removePunctuation, x)))\n",
        "print(data.ReviewStop[5])\n",
        "print(data.ReviewStop[5])"
      ],
      "metadata": {
        "colab": {
          "base_uri": "https://localhost:8080/"
        },
        "id": "MZ8AymfgLRD6",
        "outputId": "7159ec75-08a5-4442-d606-94b7048c8da5"
      },
      "execution_count": null,
      "outputs": [
        {
          "output_type": "stream",
          "name": "stdout",
          "text": [
            "['smart', 'shuffle', 'recommendations', 'keep', 'turning', 'even', 'toggle', '', 'please', 'something', '', 'would', 'like', 'listen', 'songs', 'playlist', '', 'also', 'sorted', 'order', 'not', 'play', 'queue', '', 'automatically', 'goes', 'shuffle', 'mode', '']\n",
            "['smart', 'shuffle', 'recommendations', 'keep', 'turning', 'even', 'toggle', '', 'please', 'something', '', 'would', 'like', 'listen', 'songs', 'playlist', '', 'also', 'sorted', 'order', 'not', 'play', 'queue', '', 'automatically', 'goes', 'shuffle', 'mode', '']\n"
          ]
        }
      ]
    },
    {
      "cell_type": "code",
      "source": [
        "# Removing Emojis from the text  # https://gist.github.com/slowkow/7a7f61f495e3dbb7e3d767f97bd7304b\n",
        "\n",
        "\n",
        "def removeEmoji(string):\n",
        "    emoji_pattern = re.compile(\"[\"\n",
        "                               u\"\\U0001F600-\\U0001F64F\"  # emoticons\n",
        "                               u\"\\U0001F300-\\U0001F5FF\"  # symbols & pictographs\n",
        "                               u\"\\U0001F680-\\U0001F6FF\"  # transport & map symbols\n",
        "                               u\"\\U0001F1E0-\\U0001F1FF\"  # flags (iOS)\n",
        "                               u\"\\U00002500-\\U00002BEF\"  # chinese char\n",
        "                               u\"\\U00002702-\\U000027B0\"\n",
        "                               u\"\\U00002702-\\U000027B0\"\n",
        "                               u\"\\U000024C2-\\U0001F251\"\n",
        "                               u\"\\U0001f926-\\U0001f937\"\n",
        "                               u\"\\U00010000-\\U0010ffff\"\n",
        "                               u\"\\u2640-\\u2642\"\n",
        "                               u\"\\u2600-\\u2B55\"\n",
        "                               u\"\\u200d\"\n",
        "                               u\"\\u23cf\"\n",
        "                               u\"\\u23e9\"\n",
        "                               u\"\\u231a\"\n",
        "                               u\"\\ufe0f\"  # dingbats\n",
        "                               u\"\\u3030\"\n",
        "                               \"]+\", flags=re.UNICODE)\n",
        "    return emoji_pattern.sub(r'', string)\n",
        "\n",
        "\n",
        "data['ReviewStop'] = data['ReviewStop'].apply(lambda x: list(map(removeEmoji, x)))\n",
        "print(data.ReviewStop[5])\n",
        "print(data.ReviewStop[600])"
      ],
      "metadata": {
        "colab": {
          "base_uri": "https://localhost:8080/"
        },
        "id": "56zK9TXELSWv",
        "outputId": "3a6c7801-7f44-49c2-89f8-df97508cc7f9"
      },
      "execution_count": null,
      "outputs": [
        {
          "output_type": "stream",
          "name": "stdout",
          "text": [
            "['smart', 'shuffle', 'recommendations', 'keep', 'turning', 'even', 'toggle', '.', 'please', 'something', '.', 'would', 'like', 'listen', 'songs', 'playlist', '.', 'also', 'sorted', 'order', 'not', 'play', 'queue', '.', 'automatically', 'goes', 'shuffle', 'mode', '.']\n",
            "['not', 'sure', 'happened', 'last', 'update', 'app', 'keeps', 'freezing', 'closing', 'listen', '10', 'minutes', '.', 'please', 'fix', '.']\n"
          ]
        }
      ]
    },
    {
      "cell_type": "code",
      "source": [
        "def removeLessThan_2(inputs):\n",
        "    return [j for j in inputs if len(j) > 2]\n",
        "\n",
        "data['ReviewStop'] = data['ReviewStop'].apply(removeLessThan_2)"
      ],
      "metadata": {
        "id": "B1pMjz2_LSuG"
      },
      "execution_count": null,
      "outputs": []
    },
    {
      "cell_type": "code",
      "source": [
        "from nltk.stem import WordNetLemmatizer\n",
        "nltk.download('wordnet')"
      ],
      "metadata": {
        "colab": {
          "base_uri": "https://localhost:8080/"
        },
        "id": "-Na_50hkLT60",
        "outputId": "33eb20b8-d490-4944-c076-1ad6f27b7307"
      },
      "execution_count": null,
      "outputs": [
        {
          "output_type": "stream",
          "name": "stderr",
          "text": [
            "[nltk_data] Downloading package wordnet to /root/nltk_data...\n",
            "[nltk_data]   Package wordnet is already up-to-date!\n"
          ]
        },
        {
          "output_type": "execute_result",
          "data": {
            "text/plain": [
              "True"
            ]
          },
          "metadata": {},
          "execution_count": 283
        }
      ]
    },
    {
      "cell_type": "code",
      "source": [
        "# Lemmatization\n",
        "lemmatizer = WordNetLemmatizer()\n",
        "\n",
        "\n",
        "def lemmatization(inputs):\n",
        "    return [lemmatizer.lemmatize(word=x, pos='v') for x in inputs]\n",
        "\n",
        "\n",
        "data['ReviewLemmatized'] = data['ReviewStop'].apply(lemmatization)\n",
        "print(data.ReviewStop[5])\n",
        "print(data.ReviewLemmatized[5])"
      ],
      "metadata": {
        "colab": {
          "base_uri": "https://localhost:8080/"
        },
        "id": "Ya0q2ROwLW2U",
        "outputId": "6e36193a-2fdb-4431-9868-f30d62d350dd"
      },
      "execution_count": null,
      "outputs": [
        {
          "output_type": "stream",
          "name": "stdout",
          "text": [
            "['smart', 'shuffle', 'recommendations', 'keep', 'turning', 'even', 'toggle', 'please', 'something', 'would', 'like', 'listen', 'songs', 'playlist', 'also', 'sorted', 'order', 'not', 'play', 'queue', 'automatically', 'goes', 'shuffle', 'mode']\n",
            "['smart', 'shuffle', 'recommendations', 'keep', 'turn', 'even', 'toggle', 'please', 'something', 'would', 'like', 'listen', 'songs', 'playlist', 'also', 'sort', 'order', 'not', 'play', 'queue', 'automatically', 'go', 'shuffle', 'mode']\n"
          ]
        }
      ]
    },
    {
      "cell_type": "code",
      "source": [
        "# Joining Tokens into Sentences\n",
        "data['ReviewFinal'] = data['ReviewLemmatized'].str.join(' ')\n",
        "print(data.ReviewLemmatized[5])\n",
        "print(data.ReviewFinal[5])"
      ],
      "metadata": {
        "colab": {
          "base_uri": "https://localhost:8080/"
        },
        "id": "rm0-8b27LXrD",
        "outputId": "995c0153-6630-4471-99c9-c9ad98e6d0c8"
      },
      "execution_count": null,
      "outputs": [
        {
          "output_type": "stream",
          "name": "stdout",
          "text": [
            "['smart', 'shuffle', 'recommendations', 'keep', 'turn', 'even', 'toggle', 'please', 'something', 'would', 'like', 'listen', 'songs', 'playlist', 'also', 'sort', 'order', 'not', 'play', 'queue', 'automatically', 'go', 'shuffle', 'mode']\n",
            "smart shuffle recommendations keep turn even toggle please something would like listen songs playlist also sort order not play queue automatically go shuffle mode\n"
          ]
        }
      ]
    },
    {
      "cell_type": "code",
      "source": [
        "# Combining 5 different Labels into 2\n",
        "data.score= data.score.replace({5: 'positive', 4: 'positive', 3: 'positive', 2: 'negative', 1: 'negative'})\n",
        "\n",
        "good_count = (data.score == 'positive').sum()\n",
        "bad_count = (data.score== 'negative').sum()\n",
        "\n",
        "print(good_count)\n",
        "print(bad_count)"
      ],
      "metadata": {
        "colab": {
          "base_uri": "https://localhost:8080/"
        },
        "id": "q2m1-0y4LYoX",
        "outputId": "89786643-3f87-45ce-9679-7968fe468932"
      },
      "execution_count": null,
      "outputs": [
        {
          "output_type": "stream",
          "name": "stdout",
          "text": [
            "5000\n",
            "5000\n"
          ]
        }
      ]
    },
    {
      "cell_type": "code",
      "source": [
        "# Train Test Split\n",
        "X_train, X_temp, y_train, y_temp = train_test_split(data.ReviewFinal,\n",
        "                                                    data.score,\n",
        "                                                    test_size=0.3,\n",
        "                                                    random_state=42)\n",
        "\n",
        "print(f\"X_train Shape: {X_train.shape}\")\n",
        "# Train Validation set Split\n",
        "X_val,X_test, y_val,y_test = train_test_split(X_temp,y_temp,test_size=1/3,random_state=42)\n",
        "\n",
        "print(f\"X_train Shape:{X_train.shape}\")\n",
        "print(f\"X_val Shape: {X_val.shape}\")\n",
        "print(f\"X_test Shape: {X_test.shape}\")"
      ],
      "metadata": {
        "colab": {
          "base_uri": "https://localhost:8080/"
        },
        "id": "BQGOKT8QLcCd",
        "outputId": "6ce1e46b-a284-4dc2-c989-041d0ed12c36"
      },
      "execution_count": null,
      "outputs": [
        {
          "output_type": "stream",
          "name": "stdout",
          "text": [
            "X_train Shape: (7000,)\n",
            "X_train Shape:(7000,)\n",
            "X_val Shape: (2000,)\n",
            "X_test Shape: (1000,)\n"
          ]
        }
      ]
    },
    {
      "cell_type": "code",
      "source": [
        "from tensorflow.keras.preprocessing.text import Tokenizer\n",
        "from tensorflow.keras.preprocessing.sequence import pad_sequences\n",
        "from keras.layers import Dense, Dropout, Bidirectional\n",
        "from keras.layers import LSTM\n",
        "from keras.models import Sequential\n",
        "from keras.layers import Bidirectional\n",
        "from keras.layers import Embedding\n",
        "from keras.layers import GlobalAvgPool1D\n",
        "import tensorflow as tf"
      ],
      "metadata": {
        "id": "cP0BfR87LeBH"
      },
      "execution_count": null,
      "outputs": []
    },
    {
      "cell_type": "code",
      "source": [
        "# Tokenizing with Tensorflow\n",
        "num_words =10000  # Maximum number of tokens for the Tokenizer\n",
        "\n",
        "# Define Tokenizer and fit it with the X_train\n",
        "tokenizer = Tokenizer(num_words=num_words, oov_token='<OOV>')\n",
        "tokenizer.fit_on_texts(X_train)\n",
        "\n",
        "# Apply the Tokenizer\n",
        "Tokenized_train = tokenizer.texts_to_sequences(X_train)\n",
        "Tokenized_val = tokenizer.texts_to_sequences(X_val)"
      ],
      "metadata": {
        "id": "XvqrJ_pTLfCK"
      },
      "execution_count": null,
      "outputs": []
    },
    {
      "cell_type": "code",
      "source": [
        "maxLen = 50  # Maximum length of each text\n",
        "Padded_train = pad_sequences(Tokenized_train, maxlen=maxLen, padding='post')\n",
        "Padded_val = pad_sequences(Tokenized_val, maxlen=maxLen, padding='post')"
      ],
      "metadata": {
        "id": "dZDYFdZTLgJL"
      },
      "execution_count": null,
      "outputs": []
    },
    {
      "cell_type": "code",
      "source": [
        "from keras.layers import Dense, Embedding, LSTM, SpatialDropout1D"
      ],
      "metadata": {
        "id": "JJfgu_ouLhY-"
      },
      "execution_count": null,
      "outputs": []
    },
    {
      "cell_type": "code",
      "source": [],
      "metadata": {
        "id": "pTU9oKyd4cIk"
      },
      "execution_count": null,
      "outputs": []
    },
    {
      "cell_type": "code",
      "source": [
        "model_2 = tf.keras.Sequential([\n",
        "    tf.keras.layers.Embedding(num_words, 128, input_length=maxLen),\n",
        "    tf.keras.layers.Bidirectional(tf.keras.layers.LSTM(32, return_sequences=True)),  # 添加 return_sequences=True\n",
        "    tf.keras.layers.GlobalMaxPooling1D(),  # 添加池化層\n",
        "    tf.keras.layers.Dropout(0.5),  # 增加 Dropout\n",
        "    tf.keras.layers.Dense(24, activation='relu'),\n",
        "    tf.keras.layers.BatchNormalization(),  # 添加BatchNormalization\n",
        "    tf.keras.layers.Dropout(0.5),  # 增加另一个 Dropout\n",
        "    tf.keras.layers.Dense(1, activation='sigmoid')\n",
        "])\n",
        "\n",
        "model_2.compile(loss='binary_crossentropy',\n",
        "              optimizer=tf.keras.optimizers.Adam(1e-4),  # 調整學習率\n",
        "              metrics=['accuracy'])\n",
        "\n",
        "model_2.summary()\n"
      ],
      "metadata": {
        "colab": {
          "base_uri": "https://localhost:8080/"
        },
        "id": "UxFjSEhqLht1",
        "outputId": "32147d89-5677-4768-b5e0-68b712041038"
      },
      "execution_count": null,
      "outputs": [
        {
          "output_type": "stream",
          "name": "stdout",
          "text": [
            "Model: \"sequential_23\"\n",
            "_________________________________________________________________\n",
            " Layer (type)                Output Shape              Param #   \n",
            "=================================================================\n",
            " embedding_24 (Embedding)    (None, 50, 128)           1280000   \n",
            "                                                                 \n",
            " bidirectional_23 (Bidirect  (None, 50, 64)            41216     \n",
            " ional)                                                          \n",
            "                                                                 \n",
            " global_max_pooling1d_21 (G  (None, 64)                0         \n",
            " lobalMaxPooling1D)                                              \n",
            "                                                                 \n",
            " dropout_42 (Dropout)        (None, 64)                0         \n",
            "                                                                 \n",
            " dense_46 (Dense)            (None, 24)                1560      \n",
            "                                                                 \n",
            " batch_normalization_21 (Ba  (None, 24)                96        \n",
            " tchNormalization)                                               \n",
            "                                                                 \n",
            " dropout_43 (Dropout)        (None, 24)                0         \n",
            "                                                                 \n",
            " dense_47 (Dense)            (None, 1)                 25        \n",
            "                                                                 \n",
            "=================================================================\n",
            "Total params: 1322897 (5.05 MB)\n",
            "Trainable params: 1322849 (5.05 MB)\n",
            "Non-trainable params: 48 (192.00 Byte)\n",
            "_________________________________________________________________\n"
          ]
        }
      ]
    },
    {
      "cell_type": "code",
      "source": [
        "label_ = {\"negative\": 0, \"positive\": 1}\n",
        "y_train = y_train.replace(label_)\n",
        "y_val = y_val.replace(label_)\n",
        "y_test = y_test.replace(label_)"
      ],
      "metadata": {
        "id": "FRHuDJoNLkqg"
      },
      "execution_count": null,
      "outputs": []
    },
    {
      "cell_type": "code",
      "source": [
        "\n",
        "# Define Early Stopping\n",
        "# Define Early Stopping\n",
        "early_stopping = tf.keras.callbacks.EarlyStopping(monitor='val_accuracy', mode='auto', patience=5,\n",
        "                                                restore_best_weights=True)\n",
        "# Fit the model\n",
        "epochs =10\n",
        "hist = model_2.fit(Padded_train, y_train, batch_size=64, epochs=epochs,verbose=1,\n",
        "                 validation_data=(Padded_val, y_val)\n",
        "                 )"
      ],
      "metadata": {
        "colab": {
          "base_uri": "https://localhost:8080/"
        },
        "id": "r-fwTRaXLk-7",
        "outputId": "e0bf7cf4-03ce-4649-b2df-92edb598de52"
      },
      "execution_count": null,
      "outputs": [
        {
          "output_type": "stream",
          "name": "stdout",
          "text": [
            "Epoch 1/10\n",
            "110/110 [==============================] - 16s 89ms/step - loss: 0.7412 - accuracy: 0.5191 - val_loss: 0.6908 - val_accuracy: 0.6210\n",
            "Epoch 2/10\n",
            "110/110 [==============================] - 10s 91ms/step - loss: 0.6694 - accuracy: 0.5853 - val_loss: 0.6847 - val_accuracy: 0.6460\n",
            "Epoch 3/10\n",
            "110/110 [==============================] - 10s 90ms/step - loss: 0.6154 - accuracy: 0.6620 - val_loss: 0.6583 - val_accuracy: 0.7545\n",
            "Epoch 4/10\n",
            "110/110 [==============================] - 9s 78ms/step - loss: 0.5447 - accuracy: 0.7364 - val_loss: 0.5941 - val_accuracy: 0.7875\n",
            "Epoch 5/10\n",
            "110/110 [==============================] - 10s 89ms/step - loss: 0.4742 - accuracy: 0.7817 - val_loss: 0.4968 - val_accuracy: 0.8080\n",
            "Epoch 6/10\n",
            "110/110 [==============================] - 10s 90ms/step - loss: 0.4273 - accuracy: 0.8106 - val_loss: 0.4309 - val_accuracy: 0.8145\n",
            "Epoch 7/10\n",
            "110/110 [==============================] - 9s 86ms/step - loss: 0.3874 - accuracy: 0.8336 - val_loss: 0.4091 - val_accuracy: 0.8165\n",
            "Epoch 8/10\n",
            "110/110 [==============================] - 9s 82ms/step - loss: 0.3620 - accuracy: 0.8501 - val_loss: 0.4016 - val_accuracy: 0.8145\n",
            "Epoch 9/10\n",
            "110/110 [==============================] - 10s 91ms/step - loss: 0.3324 - accuracy: 0.8707 - val_loss: 0.4008 - val_accuracy: 0.8135\n",
            "Epoch 10/10\n",
            "110/110 [==============================] - 10s 95ms/step - loss: 0.3144 - accuracy: 0.8800 - val_loss: 0.4057 - val_accuracy: 0.8120\n"
          ]
        }
      ]
    },
    {
      "cell_type": "code",
      "source": [
        "# Preparing the Test Data\n",
        "Tokenized_test = tokenizer.texts_to_sequences(X_test)\n",
        "Padded_test = pad_sequences(Tokenized_test, maxlen=maxLen, padding='post')\n",
        "\n",
        "# Evaluating the Test Data\n",
        "model_2.evaluate(Padded_test, y_test)"
      ],
      "metadata": {
        "colab": {
          "base_uri": "https://localhost:8080/"
        },
        "id": "BZ14mBJpLwA9",
        "outputId": "eee0fc6c-493f-43f5-f7a0-d87ddcaaccfa"
      },
      "execution_count": null,
      "outputs": [
        {
          "output_type": "stream",
          "name": "stdout",
          "text": [
            "32/32 [==============================] - 0s 15ms/step - loss: 0.3757 - accuracy: 0.8290\n"
          ]
        },
        {
          "output_type": "execute_result",
          "data": {
            "text/plain": [
              "[0.37567028403282166, 0.8289999961853027]"
            ]
          },
          "metadata": {},
          "execution_count": 325
        }
      ]
    },
    {
      "cell_type": "code",
      "source": [
        "# 使用模型对测试数据进行预测\n",
        "y_pred_probs = model_2.predict(Padded_test)\n",
        "y_pred_probs\n",
        "# 将概率转换为类别标签\n",
        "y_pred = [1 if prob > 0.5 else 0 for prob in y_pred_probs]\n",
        "from sklearn.metrics import classification_report\n",
        "\n",
        "# 生成分类报告\n",
        "report = classification_report(y_test, y_pred, target_names=['Class 0', 'Class 1'])\n",
        "\n",
        "# 打印分类报告\n",
        "print(report)\n"
      ],
      "metadata": {
        "colab": {
          "base_uri": "https://localhost:8080/"
        },
        "id": "cvRa0jRuMmtI",
        "outputId": "64d2327e-4659-4860-8acd-744eaa01f23c"
      },
      "execution_count": null,
      "outputs": [
        {
          "output_type": "stream",
          "name": "stdout",
          "text": [
            "32/32 [==============================] - 1s 12ms/step\n",
            "              precision    recall  f1-score   support\n",
            "\n",
            "     Class 0       0.80      0.86      0.83       478\n",
            "     Class 1       0.86      0.80      0.83       522\n",
            "\n",
            "    accuracy                           0.83      1000\n",
            "   macro avg       0.83      0.83      0.83      1000\n",
            "weighted avg       0.83      0.83      0.83      1000\n",
            "\n"
          ]
        }
      ]
    },
    {
      "cell_type": "code",
      "source": [],
      "metadata": {
        "id": "K86c6hX6iRW8"
      },
      "execution_count": null,
      "outputs": []
    },
    {
      "cell_type": "code",
      "source": [
        "hist.history.keys()\n",
        "# Colab 進行matplotlib繪圖時顯示繁體中文\n",
        "# 下載台北思源黑體並命名taipei_sans_tc_beta.ttf，移至指定路徑\n",
        "!wget -O TaipeiSansTCBeta-Regular.ttf https://drive.google.com/uc?id=1eGAsTN1HBpJAkeVM57_C7ccp7hbgSz3_&export=download\n",
        "\n",
        "import matplotlib as mpl\n",
        "import matplotlib.pyplot as plt\n",
        "from matplotlib.font_manager import fontManager\n",
        "\n",
        "# 改style要在改font之前\n",
        "# plt.style.use('seaborn')\n",
        "\n",
        "fontManager.addfont('TaipeiSansTCBeta-Regular.ttf')\n",
        "mpl.rc('font', family='Taipei Sans TC Beta')\n",
        "# 對訓練過程的損失繪圖\n",
        "import matplotlib.pyplot as plt\n",
        "\n",
        "plt.figure(figsize=(8, 6))\n",
        "plt.plot(hist.history['loss'], 'r', label='訓練集的損失函數')\n",
        "plt.plot(hist.history['val_loss'], 'g', label='驗證集的損失函數')\n",
        "plt.legend()"
      ],
      "metadata": {
        "colab": {
          "base_uri": "https://localhost:8080/",
          "height": 869
        },
        "id": "0fTy0GI_Mr2b",
        "outputId": "c83e5d9d-ef5c-4fdc-eb43-9d5c271c4754"
      },
      "execution_count": null,
      "outputs": [
        {
          "output_type": "stream",
          "name": "stdout",
          "text": [
            "--2023-12-27 05:48:54--  https://drive.google.com/uc?id=1eGAsTN1HBpJAkeVM57_C7ccp7hbgSz3_\n",
            "Resolving drive.google.com (drive.google.com)... 172.217.15.238, 2607:f8b0:4025:802::200e\n",
            "Connecting to drive.google.com (drive.google.com)|172.217.15.238|:443... connected.\n",
            "HTTP request sent, awaiting response... 303 See Other\n",
            "Location: https://doc-0k-9o-docs.googleusercontent.com/docs/securesc/ha0ro937gcuc7l7deffksulhg5h7mbp1/8nl8fsk73as52mgkf8t285v7okt0q0et/1703656125000/02847987870453524430/*/1eGAsTN1HBpJAkeVM57_C7ccp7hbgSz3_?uuid=6229db08-8241-4636-aa27-a8744b5ae6ef [following]\n",
            "Warning: wildcards not supported in HTTP.\n",
            "--2023-12-27 05:48:55--  https://doc-0k-9o-docs.googleusercontent.com/docs/securesc/ha0ro937gcuc7l7deffksulhg5h7mbp1/8nl8fsk73as52mgkf8t285v7okt0q0et/1703656125000/02847987870453524430/*/1eGAsTN1HBpJAkeVM57_C7ccp7hbgSz3_?uuid=6229db08-8241-4636-aa27-a8744b5ae6ef\n",
            "Resolving doc-0k-9o-docs.googleusercontent.com (doc-0k-9o-docs.googleusercontent.com)... 172.217.12.1, 2607:f8b0:4025:815::2001\n",
            "Connecting to doc-0k-9o-docs.googleusercontent.com (doc-0k-9o-docs.googleusercontent.com)|172.217.12.1|:443... connected.\n",
            "HTTP request sent, awaiting response... 200 OK\n",
            "Length: 20659344 (20M) [application/x-font-ttf]\n",
            "Saving to: ‘TaipeiSansTCBeta-Regular.ttf’\n",
            "\n",
            "TaipeiSansTCBeta-Re 100%[===================>]  19.70M  71.9MB/s    in 0.3s    \n",
            "\n",
            "2023-12-27 05:48:55 (71.9 MB/s) - ‘TaipeiSansTCBeta-Regular.ttf’ saved [20659344/20659344]\n",
            "\n"
          ]
        },
        {
          "output_type": "execute_result",
          "data": {
            "text/plain": [
              "<matplotlib.legend.Legend at 0x7b1cf7f70a60>"
            ]
          },
          "metadata": {},
          "execution_count": 298
        },
        {
          "output_type": "display_data",
          "data": {
            "text/plain": [
              "<Figure size 800x600 with 1 Axes>"
            ],
            "image/png": "[encoded data removed]"
          },
          "metadata": {}
        }
      ]
    },
    {
      "cell_type": "code",
      "source": [
        "plt.rcParams['font.sans-serif'] = ['Microsoft JhengHei']\n",
        "plt.rcParams['axes.unicode_minus'] = False\n",
        "\n",
        "plt.figure(figsize=(8, 6))\n",
        "plt.plot(hist.history['accuracy'], 'r', label='訓練集的準確率')\n",
        "plt.plot(hist.history['val_accuracy'], 'g', label='驗證集的準確率')\n",
        "plt.legend()"
      ],
      "metadata": {
        "colab": {
          "base_uri": "https://localhost:8080/",
          "height": 540
        },
        "id": "X9_BVWe3XiEs",
        "outputId": "489be13b-a42a-47cc-a522-5aea35e0056f"
      },
      "execution_count": null,
      "outputs": [
        {
          "output_type": "execute_result",
          "data": {
            "text/plain": [
              "<matplotlib.legend.Legend at 0x7b1d4d9a91b0>"
            ]
          },
          "metadata": {},
          "execution_count": 299
        },
        {
          "output_type": "display_data",
          "data": {
            "text/plain": [
              "<Figure size 800x600 with 1 Axes>"
            ],
            "image/png": "[encoded data removed]"
          },
          "metadata": {}
        }
      ]
    },
    {
      "cell_type": "code",
      "source": [
        "from tensorflow.keras.preprocessing.text import Tokenizer\n",
        "from tensorflow.keras.preprocessing.sequence import pad_sequences"
      ],
      "metadata": {
        "id": "HoSvDKbhXPXS"
      },
      "execution_count": null,
      "outputs": []
    },
    {
      "cell_type": "code",
      "source": [
        "from keras.preprocessing.text import Tokenizer\n",
        "from keras.preprocessing.sequence import pad_sequences\n",
        "# 用於預測的句子\n",
        "sentence = [\"This playlist is absolutely fantastic every song is a delight\",\n",
        "            \"I am really disappoint with the latest music update the track selection is poor\"]\n",
        "\n",
        "# 轉換為序列\n",
        "sequences = tokenizer.texts_to_sequences(sentence)\n",
        "\n",
        "# 填充序列\n",
        "padded = pad_sequences(sequences, maxlen=50, padding='post')\n"
      ],
      "metadata": {
        "id": "wmkUEvRCcLPx"
      },
      "execution_count": null,
      "outputs": []
    },
    {
      "cell_type": "code",
      "source": [],
      "metadata": {
        "id": "vhASOGgslYWc"
      },
      "execution_count": null,
      "outputs": []
    },
    {
      "cell_type": "code",
      "source": [
        "prediction = model_2.predict(padded)\n",
        "prediction"
      ],
      "metadata": {
        "colab": {
          "base_uri": "https://localhost:8080/"
        },
        "id": "jjPaZ6aJiMtw",
        "outputId": "e94e817b-6b55-41e6-8648-4e508a85e3f6"
      },
      "execution_count": null,
      "outputs": [
        {
          "output_type": "stream",
          "name": "stdout",
          "text": [
            "1/1 [==============================] - 0s 27ms/step\n"
          ]
        },
        {
          "output_type": "execute_result",
          "data": {
            "text/plain": [
              "array([[0.54563695],\n",
              "       [0.6106249 ]], dtype=float32)"
            ]
          },
          "metadata": {},
          "execution_count": 328
        }
      ]
    },
    {
      "cell_type": "code",
      "source": [
        "prediction = model_2.predict(padded)\n",
        "pred_labels = []\n",
        "for i in prediction:\n",
        "    if i >= 0.5:\n",
        "        pred_labels.append(1)\n",
        "    else:\n",
        "        pred_labels.append(0)\n",
        "for i in range(len(sentence)):\n",
        "    print(sentence[i])\n",
        "    if pred_labels[i] == 1:\n",
        "        s = 'Positive'\n",
        "    else:\n",
        "        s = 'Negative'\n",
        "    print(\"Predicted sentiment : \",s)\n"
      ],
      "metadata": {
        "colab": {
          "base_uri": "https://localhost:8080/"
        },
        "id": "aRGHM55Gfdil",
        "outputId": "f2e1f5ff-3f1c-4ba3-9a7c-966b98b75b74"
      },
      "execution_count": null,
      "outputs": [
        {
          "output_type": "stream",
          "name": "stdout",
          "text": [
            "1/1 [==============================] - 0s 27ms/step\n",
            "This playlist is absolutely fantastic every song is a delight\n",
            "Predicted sentiment :  Positive\n",
            "There are too many ads interrupting the music it is annoying and disruptive\n",
            "Predicted sentiment :  Positive\n"
          ]
        }
      ]
    }
  ]
}